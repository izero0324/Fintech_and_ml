{
 "cells": [
  {
   "cell_type": "markdown",
   "metadata": {},
   "source": [
    "1. Please do a simple EDA for the dataset.\n",
    "2. Pre-process the continuous and discrete data.\n",
    "3. Build the logistic regression model.\n",
    "4. Predict the data and show the confusion matrix. Please explain it in details.\n",
    "5. Use KNN, Decision tree, random forest, SVM, and neural network to predict the data and show the confusion matrix. Please explain your results in details.\n",
    "6. Among all these questions, what is your best result? Explain why you regard it as the best result.   \n",
    "7. Bonus points will be given for those who use their own data. "
   ]
  },
  {
   "cell_type": "markdown",
   "metadata": {},
   "source": [
    "# 0851105楊家鋐"
   ]
  },
  {
   "cell_type": "code",
   "execution_count": 1,
   "metadata": {},
   "outputs": [],
   "source": [
    "# pre-processing data\n",
    "import pandas as pd\n",
    "import numpy as np\n",
    "from numpy import mat\n",
    "# standardize the Data\n",
    "from sklearn import preprocessing\n",
    "from sklearn.metrics import confusion_matrix\n",
    "# draw graph\n",
    "import matplotlib.pyplot as plt\n",
    "%matplotlib inline\n",
    "import seaborn as sns"
   ]
  },
  {
   "cell_type": "markdown",
   "metadata": {},
   "source": [
    "### 1.A simple EDA for the dataset."
   ]
  },
  {
   "cell_type": "code",
   "execution_count": 5,
   "metadata": {},
   "outputs": [
    {
     "data": {
      "text/html": [
       "<div>\n",
       "<style scoped>\n",
       "    .dataframe tbody tr th:only-of-type {\n",
       "        vertical-align: middle;\n",
       "    }\n",
       "\n",
       "    .dataframe tbody tr th {\n",
       "        vertical-align: top;\n",
       "    }\n",
       "\n",
       "    .dataframe thead th {\n",
       "        text-align: right;\n",
       "    }\n",
       "</style>\n",
       "<table border=\"1\" class=\"dataframe\">\n",
       "  <thead>\n",
       "    <tr style=\"text-align: right;\">\n",
       "      <th></th>\n",
       "      <th>Price</th>\n",
       "      <th>Open</th>\n",
       "      <th>High</th>\n",
       "      <th>Low</th>\n",
       "      <th>Vol.</th>\n",
       "      <th>Change %</th>\n",
       "      <th>BTC Price</th>\n",
       "      <th>BTC Open</th>\n",
       "      <th>BTC High</th>\n",
       "      <th>BTC Low</th>\n",
       "      <th>BTC Vol.</th>\n",
       "      <th>BTC Change %</th>\n",
       "    </tr>\n",
       "  </thead>\n",
       "  <tbody>\n",
       "    <tr>\n",
       "      <th>count</th>\n",
       "      <td>1053</td>\n",
       "      <td>1053</td>\n",
       "      <td>1053</td>\n",
       "      <td>1053</td>\n",
       "      <td>1053</td>\n",
       "      <td>1053</td>\n",
       "      <td>1053</td>\n",
       "      <td>1053</td>\n",
       "      <td>1053</td>\n",
       "      <td>1053</td>\n",
       "      <td>1053</td>\n",
       "      <td>1053</td>\n",
       "    </tr>\n",
       "    <tr>\n",
       "      <th>unique</th>\n",
       "      <td>1038</td>\n",
       "      <td>1028</td>\n",
       "      <td>1026</td>\n",
       "      <td>1024</td>\n",
       "      <td>892</td>\n",
       "      <td>768</td>\n",
       "      <td>1048</td>\n",
       "      <td>1045</td>\n",
       "      <td>1046</td>\n",
       "      <td>1047</td>\n",
       "      <td>1019</td>\n",
       "      <td>734</td>\n",
       "    </tr>\n",
       "    <tr>\n",
       "      <th>top</th>\n",
       "      <td>12.92</td>\n",
       "      <td>190.16</td>\n",
       "      <td>299</td>\n",
       "      <td>10.38</td>\n",
       "      <td>1.08M</td>\n",
       "      <td>0.41%</td>\n",
       "      <td>3,870.30</td>\n",
       "      <td>6,256.90</td>\n",
       "      <td>4,005.70</td>\n",
       "      <td>3,957.50</td>\n",
       "      <td>1.04M</td>\n",
       "      <td>-0.96%</td>\n",
       "    </tr>\n",
       "    <tr>\n",
       "      <th>freq</th>\n",
       "      <td>2</td>\n",
       "      <td>2</td>\n",
       "      <td>3</td>\n",
       "      <td>3</td>\n",
       "      <td>5</td>\n",
       "      <td>4</td>\n",
       "      <td>2</td>\n",
       "      <td>2</td>\n",
       "      <td>2</td>\n",
       "      <td>2</td>\n",
       "      <td>4</td>\n",
       "      <td>5</td>\n",
       "    </tr>\n",
       "  </tbody>\n",
       "</table>\n",
       "</div>"
      ],
      "text/plain": [
       "        Price    Open  High    Low   Vol. Change % BTC Price  BTC Open  \\\n",
       "count    1053    1053  1053   1053   1053     1053      1053      1053   \n",
       "unique   1038    1028  1026   1024    892      768      1048      1045   \n",
       "top     12.92  190.16   299  10.38  1.08M    0.41%  3,870.30  6,256.90   \n",
       "freq        2       2     3      3      5        4         2         2   \n",
       "\n",
       "        BTC High   BTC Low BTC Vol. BTC Change %  \n",
       "count       1053      1053     1053         1053  \n",
       "unique      1046      1047     1019          734  \n",
       "top     4,005.70  3,957.50    1.04M       -0.96%  \n",
       "freq           2         2        4            5  "
      ]
     },
     "execution_count": 5,
     "metadata": {},
     "output_type": "execute_result"
    }
   ],
   "source": [
    "csv_file = 'Training Data.csv'\n",
    "data = pd.read_csv(csv_file)\n",
    "data = data.drop(['Date'], axis=1)\n",
    "data.describe()"
   ]
  },
  {
   "cell_type": "code",
   "execution_count": 6,
   "metadata": {},
   "outputs": [
    {
     "data": {
      "text/html": [
       "<div>\n",
       "<style scoped>\n",
       "    .dataframe tbody tr th:only-of-type {\n",
       "        vertical-align: middle;\n",
       "    }\n",
       "\n",
       "    .dataframe tbody tr th {\n",
       "        vertical-align: top;\n",
       "    }\n",
       "\n",
       "    .dataframe thead th {\n",
       "        text-align: right;\n",
       "    }\n",
       "</style>\n",
       "<table border=\"1\" class=\"dataframe\">\n",
       "  <thead>\n",
       "    <tr style=\"text-align: right;\">\n",
       "      <th></th>\n",
       "      <th>Price</th>\n",
       "      <th>Open</th>\n",
       "      <th>High</th>\n",
       "      <th>Low</th>\n",
       "      <th>Vol.</th>\n",
       "      <th>Change %</th>\n",
       "      <th>BTC Price</th>\n",
       "      <th>BTC Open</th>\n",
       "      <th>BTC High</th>\n",
       "      <th>BTC Low</th>\n",
       "      <th>BTC Vol.</th>\n",
       "      <th>BTC Change %</th>\n",
       "    </tr>\n",
       "  </thead>\n",
       "  <tbody>\n",
       "    <tr>\n",
       "      <th>0</th>\n",
       "      <td>8.2</td>\n",
       "      <td>8.17</td>\n",
       "      <td>8.59</td>\n",
       "      <td>8.03</td>\n",
       "      <td>144.92K</td>\n",
       "      <td>2.50%</td>\n",
       "      <td>995.4</td>\n",
       "      <td>963.4</td>\n",
       "      <td>1,001.60</td>\n",
       "      <td>956.1</td>\n",
       "      <td>41.15K</td>\n",
       "      <td>3.33%</td>\n",
       "    </tr>\n",
       "    <tr>\n",
       "      <th>1</th>\n",
       "      <td>8.37</td>\n",
       "      <td>8.19</td>\n",
       "      <td>8.5</td>\n",
       "      <td>8.11</td>\n",
       "      <td>101.27K</td>\n",
       "      <td>2.07%</td>\n",
       "      <td>1,017.00</td>\n",
       "      <td>995.4</td>\n",
       "      <td>1,031.70</td>\n",
       "      <td>990.2</td>\n",
       "      <td>64.95K</td>\n",
       "      <td>2.17%</td>\n",
       "    </tr>\n",
       "    <tr>\n",
       "      <th>2</th>\n",
       "      <td>9.74</td>\n",
       "      <td>8.43</td>\n",
       "      <td>9.9</td>\n",
       "      <td>8.3</td>\n",
       "      <td>603.42K</td>\n",
       "      <td>16.37%</td>\n",
       "      <td>1,033.30</td>\n",
       "      <td>1,017.00</td>\n",
       "      <td>1,035.50</td>\n",
       "      <td>1,006.50</td>\n",
       "      <td>54.79K</td>\n",
       "      <td>1.60%</td>\n",
       "    </tr>\n",
       "    <tr>\n",
       "      <th>3</th>\n",
       "      <td>11</td>\n",
       "      <td>9.57</td>\n",
       "      <td>11.1</td>\n",
       "      <td>9.44</td>\n",
       "      <td>556.25K</td>\n",
       "      <td>12.94%</td>\n",
       "      <td>1,135.40</td>\n",
       "      <td>1,033.30</td>\n",
       "      <td>1,148.50</td>\n",
       "      <td>1,022.30</td>\n",
       "      <td>156.27K</td>\n",
       "      <td>9.88%</td>\n",
       "    </tr>\n",
       "    <tr>\n",
       "      <th>4</th>\n",
       "      <td>10.15</td>\n",
       "      <td>11.16</td>\n",
       "      <td>11.7</td>\n",
       "      <td>9.2</td>\n",
       "      <td>490.64K</td>\n",
       "      <td>-7.73%</td>\n",
       "      <td>989.3</td>\n",
       "      <td>1,135.40</td>\n",
       "      <td>1,150.60</td>\n",
       "      <td>874.5</td>\n",
       "      <td>240.01K</td>\n",
       "      <td>-12.86%</td>\n",
       "    </tr>\n",
       "  </tbody>\n",
       "</table>\n",
       "</div>"
      ],
      "text/plain": [
       "   Price   Open  High   Low     Vol. Change % BTC Price  BTC Open  BTC High  \\\n",
       "0    8.2   8.17  8.59  8.03  144.92K    2.50%     995.4     963.4  1,001.60   \n",
       "1   8.37   8.19   8.5  8.11  101.27K    2.07%  1,017.00     995.4  1,031.70   \n",
       "2   9.74   8.43   9.9   8.3  603.42K   16.37%  1,033.30  1,017.00  1,035.50   \n",
       "3     11   9.57  11.1  9.44  556.25K   12.94%  1,135.40  1,033.30  1,148.50   \n",
       "4  10.15  11.16  11.7   9.2  490.64K   -7.73%     989.3  1,135.40  1,150.60   \n",
       "\n",
       "    BTC Low BTC Vol. BTC Change %  \n",
       "0     956.1   41.15K        3.33%  \n",
       "1     990.2   64.95K        2.17%  \n",
       "2  1,006.50   54.79K        1.60%  \n",
       "3  1,022.30  156.27K        9.88%  \n",
       "4     874.5  240.01K      -12.86%  "
      ]
     },
     "execution_count": 6,
     "metadata": {},
     "output_type": "execute_result"
    }
   ],
   "source": [
    "data.head()"
   ]
  },
  {
   "cell_type": "code",
   "execution_count": 7,
   "metadata": {},
   "outputs": [
    {
     "ename": "KeyError",
     "evalue": "\"None of [Index(['Age', 'Siblings/Spouses Aboard', 'Parents/Children Aboard', 'Fare',\\n       'Pclass', 'Survived'],\\n      dtype='object')] are in the [columns]\"",
     "output_type": "error",
     "traceback": [
      "\u001b[1;31m---------------------------------------------------------------------------\u001b[0m",
      "\u001b[1;31mKeyError\u001b[0m                                  Traceback (most recent call last)",
      "\u001b[1;32m<ipython-input-7-e9a0a8545b56>\u001b[0m in \u001b[0;36m<module>\u001b[1;34m\u001b[0m\n\u001b[1;32m----> 1\u001b[1;33m \u001b[0msns\u001b[0m\u001b[1;33m.\u001b[0m\u001b[0mpairplot\u001b[0m\u001b[1;33m(\u001b[0m\u001b[0mdata\u001b[0m\u001b[1;33m[\u001b[0m\u001b[1;33m[\u001b[0m\u001b[1;34m'Age'\u001b[0m\u001b[1;33m,\u001b[0m\u001b[1;34m'Siblings/Spouses Aboard'\u001b[0m\u001b[1;33m,\u001b[0m\u001b[1;34m'Parents/Children Aboard'\u001b[0m\u001b[1;33m,\u001b[0m\u001b[1;34m'Fare'\u001b[0m\u001b[1;33m,\u001b[0m\u001b[1;34m'Pclass'\u001b[0m\u001b[1;33m,\u001b[0m\u001b[1;34m'Survived'\u001b[0m\u001b[1;33m]\u001b[0m\u001b[1;33m]\u001b[0m\u001b[1;33m)\u001b[0m\u001b[1;33m\u001b[0m\u001b[1;33m\u001b[0m\u001b[0m\n\u001b[0m",
      "\u001b[1;32mC:\\ProgramData\\Anaconda3\\lib\\site-packages\\pandas\\core\\frame.py\u001b[0m in \u001b[0;36m__getitem__\u001b[1;34m(self, key)\u001b[0m\n\u001b[0;32m   2932\u001b[0m                 \u001b[0mkey\u001b[0m \u001b[1;33m=\u001b[0m \u001b[0mlist\u001b[0m\u001b[1;33m(\u001b[0m\u001b[0mkey\u001b[0m\u001b[1;33m)\u001b[0m\u001b[1;33m\u001b[0m\u001b[1;33m\u001b[0m\u001b[0m\n\u001b[0;32m   2933\u001b[0m             indexer = self.loc._convert_to_indexer(key, axis=1,\n\u001b[1;32m-> 2934\u001b[1;33m                                                    raise_missing=True)\n\u001b[0m\u001b[0;32m   2935\u001b[0m \u001b[1;33m\u001b[0m\u001b[0m\n\u001b[0;32m   2936\u001b[0m         \u001b[1;31m# take() does not accept boolean indexers\u001b[0m\u001b[1;33m\u001b[0m\u001b[1;33m\u001b[0m\u001b[1;33m\u001b[0m\u001b[0m\n",
      "\u001b[1;32mC:\\ProgramData\\Anaconda3\\lib\\site-packages\\pandas\\core\\indexing.py\u001b[0m in \u001b[0;36m_convert_to_indexer\u001b[1;34m(self, obj, axis, is_setter, raise_missing)\u001b[0m\n\u001b[0;32m   1352\u001b[0m                 kwargs = {'raise_missing': True if is_setter else\n\u001b[0;32m   1353\u001b[0m                           raise_missing}\n\u001b[1;32m-> 1354\u001b[1;33m                 \u001b[1;32mreturn\u001b[0m \u001b[0mself\u001b[0m\u001b[1;33m.\u001b[0m\u001b[0m_get_listlike_indexer\u001b[0m\u001b[1;33m(\u001b[0m\u001b[0mobj\u001b[0m\u001b[1;33m,\u001b[0m \u001b[0maxis\u001b[0m\u001b[1;33m,\u001b[0m \u001b[1;33m**\u001b[0m\u001b[0mkwargs\u001b[0m\u001b[1;33m)\u001b[0m\u001b[1;33m[\u001b[0m\u001b[1;36m1\u001b[0m\u001b[1;33m]\u001b[0m\u001b[1;33m\u001b[0m\u001b[1;33m\u001b[0m\u001b[0m\n\u001b[0m\u001b[0;32m   1355\u001b[0m         \u001b[1;32melse\u001b[0m\u001b[1;33m:\u001b[0m\u001b[1;33m\u001b[0m\u001b[1;33m\u001b[0m\u001b[0m\n\u001b[0;32m   1356\u001b[0m             \u001b[1;32mtry\u001b[0m\u001b[1;33m:\u001b[0m\u001b[1;33m\u001b[0m\u001b[1;33m\u001b[0m\u001b[0m\n",
      "\u001b[1;32mC:\\ProgramData\\Anaconda3\\lib\\site-packages\\pandas\\core\\indexing.py\u001b[0m in \u001b[0;36m_get_listlike_indexer\u001b[1;34m(self, key, axis, raise_missing)\u001b[0m\n\u001b[0;32m   1159\u001b[0m         self._validate_read_indexer(keyarr, indexer,\n\u001b[0;32m   1160\u001b[0m                                     \u001b[0mo\u001b[0m\u001b[1;33m.\u001b[0m\u001b[0m_get_axis_number\u001b[0m\u001b[1;33m(\u001b[0m\u001b[0maxis\u001b[0m\u001b[1;33m)\u001b[0m\u001b[1;33m,\u001b[0m\u001b[1;33m\u001b[0m\u001b[1;33m\u001b[0m\u001b[0m\n\u001b[1;32m-> 1161\u001b[1;33m                                     raise_missing=raise_missing)\n\u001b[0m\u001b[0;32m   1162\u001b[0m         \u001b[1;32mreturn\u001b[0m \u001b[0mkeyarr\u001b[0m\u001b[1;33m,\u001b[0m \u001b[0mindexer\u001b[0m\u001b[1;33m\u001b[0m\u001b[1;33m\u001b[0m\u001b[0m\n\u001b[0;32m   1163\u001b[0m \u001b[1;33m\u001b[0m\u001b[0m\n",
      "\u001b[1;32mC:\\ProgramData\\Anaconda3\\lib\\site-packages\\pandas\\core\\indexing.py\u001b[0m in \u001b[0;36m_validate_read_indexer\u001b[1;34m(self, key, indexer, axis, raise_missing)\u001b[0m\n\u001b[0;32m   1244\u001b[0m                 raise KeyError(\n\u001b[0;32m   1245\u001b[0m                     u\"None of [{key}] are in the [{axis}]\".format(\n\u001b[1;32m-> 1246\u001b[1;33m                         key=key, axis=self.obj._get_axis_name(axis)))\n\u001b[0m\u001b[0;32m   1247\u001b[0m \u001b[1;33m\u001b[0m\u001b[0m\n\u001b[0;32m   1248\u001b[0m             \u001b[1;31m# We (temporarily) allow for some missing keys with .loc, except in\u001b[0m\u001b[1;33m\u001b[0m\u001b[1;33m\u001b[0m\u001b[1;33m\u001b[0m\u001b[0m\n",
      "\u001b[1;31mKeyError\u001b[0m: \"None of [Index(['Age', 'Siblings/Spouses Aboard', 'Parents/Children Aboard', 'Fare',\\n       'Pclass', 'Survived'],\\n      dtype='object')] are in the [columns]\""
     ]
    }
   ],
   "source": [
    "sns.pairplot(data[['Age','Siblings/Spouses Aboard','Parents/Children Aboard','Fare','Pclass','Survived']])"
   ]
  },
  {
   "cell_type": "code",
   "execution_count": 8,
   "metadata": {},
   "outputs": [
    {
     "data": {
      "image/png": "[encoded data removed]",
      "text/plain": [
       "<Figure size 720x720 with 2 Axes>"
      ]
     },
     "metadata": {
      "needs_background": "light"
     },
     "output_type": "display_data"
    }
   ],
   "source": [
    "plt.figure(figsize=(10,10))\n",
    "sns.heatmap(data.corr(), annot = False, center=0.0, cmap='coolwarm');\n",
    "plt.savefig('heatmap.png')\n",
    "plt.show()"
   ]
  },
  {
   "cell_type": "code",
   "execution_count": 11,
   "metadata": {},
   "outputs": [],
   "source": [
    "X = data.drop(columns = ['Survived','Name'], axis = 1)"
   ]
  },
  {
   "cell_type": "markdown",
   "metadata": {},
   "source": [
    "### 2.Pre-process the continuous and discrete data."
   ]
  },
  {
   "cell_type": "markdown",
   "metadata": {},
   "source": [
    "Continuous data"
   ]
  },
  {
   "cell_type": "code",
   "execution_count": 12,
   "metadata": {},
   "outputs": [],
   "source": [
    "# Do standardize for part of variables\n",
    "data_Age   = X.loc[:, [ 'Age']]\n",
    "data_sib   = X.loc[:, [ 'Siblings/Spouses Aboard']]\n",
    "data_child = X.loc[:, [ 'Parents/Children Aboard']]\n",
    "data_fare  = X.loc[:, [ 'Fare']]\n",
    "data_class = X.loc[:, [ 'Pclass']]\n",
    "\n",
    "df_conti = pd.concat( [data_Age, data_sib, data_child, data_fare, data_class], axis=1 )\n",
    "\n",
    "# Create the Scaler object\n",
    "scaler = preprocessing.StandardScaler()\n",
    "\n",
    "# Fit your data on the scaler object\n",
    "scaled_df = scaler.fit_transform(df_conti)\n",
    "scaled_df = pd.DataFrame(scaled_df, columns = df_conti.columns)"
   ]
  },
  {
   "cell_type": "markdown",
   "metadata": {},
   "source": [
    "discrete data"
   ]
  },
  {
   "cell_type": "code",
   "execution_count": 13,
   "metadata": {},
   "outputs": [
    {
     "data": {
      "text/plain": [
       "female    0.354002\n",
       "male      0.645998\n",
       "Name: Sex, dtype: float64"
      ]
     },
     "execution_count": 13,
     "metadata": {},
     "output_type": "execute_result"
    }
   ],
   "source": [
    "X['Sex'].value_counts(normalize=True, sort=False)"
   ]
  },
  {
   "cell_type": "code",
   "execution_count": 14,
   "metadata": {},
   "outputs": [
    {
     "data": {
      "text/plain": [
       "female    0.354002\n",
       "male      0.645998\n",
       "Name: Sex, dtype: float64"
      ]
     },
     "execution_count": 14,
     "metadata": {},
     "output_type": "execute_result"
    }
   ],
   "source": [
    "X['Sex'] = np.where(X['Sex'] == 0, 2, X['Sex'])\n",
    "X['Sex'].value_counts(normalize=True, sort=False)"
   ]
  },
  {
   "cell_type": "code",
   "execution_count": 18,
   "metadata": {},
   "outputs": [],
   "source": [
    "y = data['Survived']"
   ]
  },
  {
   "cell_type": "markdown",
   "metadata": {},
   "source": [
    "### 3.Build the logistic regression model."
   ]
  },
  {
   "cell_type": "code",
   "execution_count": 19,
   "metadata": {},
   "outputs": [],
   "source": [
    "#Spilt the data into train and test set \n",
    "from sklearn.model_selection import train_test_split\n",
    "\n",
    "seed = 514\n",
    "#Spilt the data as train set : test set = 8:2\n",
    "X_train, X_test, y_train, y_test = train_test_split(scaled_df.loc[:,:], y, test_size=0.2, random_state = seed) "
   ]
  },
  {
   "cell_type": "code",
   "execution_count": 20,
   "metadata": {},
   "outputs": [
    {
     "name": "stderr",
     "output_type": "stream",
     "text": [
      "C:\\ProgramData\\Anaconda3\\lib\\site-packages\\sklearn\\linear_model\\logistic.py:432: FutureWarning: Default solver will be changed to 'lbfgs' in 0.22. Specify a solver to silence this warning.\n",
      "  FutureWarning)\n"
     ]
    },
    {
     "data": {
      "text/plain": [
       "LogisticRegression(C=1.0, class_weight=None, dual=False, fit_intercept=True,\n",
       "                   intercept_scaling=1, l1_ratio=None, max_iter=100,\n",
       "                   multi_class='warn', n_jobs=None, penalty='l2',\n",
       "                   random_state=None, solver='warn', tol=0.0001, verbose=0,\n",
       "                   warm_start=False)"
      ]
     },
     "execution_count": 20,
     "metadata": {},
     "output_type": "execute_result"
    }
   ],
   "source": [
    "from sklearn.linear_model import LogisticRegression\n",
    "\n",
    "logreg = LogisticRegression()\n",
    "logreg.fit(X_train, y_train)"
   ]
  },
  {
   "cell_type": "markdown",
   "metadata": {},
   "source": [
    "### 4. Predict the data and show the confusion matrix. Please explain it in details."
   ]
  },
  {
   "cell_type": "code",
   "execution_count": 23,
   "metadata": {},
   "outputs": [],
   "source": [
    "def Measures(conf_matrix):\n",
    "    \n",
    "    TP, FP, FN, TN = conf_matrix[0, 0], conf_matrix[0, 1], conf_matrix[1, 0], conf_matrix[1, 1]\n",
    "\n",
    "    # Sensitivity, hit rate, recall, or true positive rate\n",
    "    TPR = TP/(TP+FN)\n",
    "    # Specificity or true negative rate\n",
    "    TNR = TN/(TN+FP) \n",
    "    # Precision or positive predictive value\n",
    "    PPV = TP/(TP+FP)\n",
    "    # Negative predictive value\n",
    "    NPV = TN/(TN+FN)\n",
    "    # Fall out or false positive rate\n",
    "    FPR = FP/(FP+TN)\n",
    "    # False negative rate\n",
    "    FNR = FN/(TP+FN)\n",
    "    # False discovery rate\n",
    "    FDR = FP/(TP+FP)\n",
    "\n",
    "    # Overall accuracy\n",
    "    ACC = (TP+TN)/(TP+FP+FN+TN)\n",
    "    \n",
    "    # F1 score\n",
    "    F1 = (2*TP)/(2*TP+FN+FP)\n",
    "    \n",
    "    return TPR, ACC, F1"
   ]
  },
  {
   "cell_type": "code",
   "execution_count": 24,
   "metadata": {},
   "outputs": [
    {
     "name": "stdout",
     "output_type": "stream",
     "text": [
      "Recall of logistic regression classifier on test set: 0.74\n",
      "Accuracy of logistic regression classifier on test set: 0.67\n",
      "F1 Score of logistic regression classifier on test set: 0.77\n"
     ]
    },
    {
     "data": {
      "image/png": "[encoded data removed]",
      "text/plain": [
       "<Figure size 1080x720 with 2 Axes>"
      ]
     },
     "metadata": {
      "needs_background": "light"
     },
     "output_type": "display_data"
    }
   ],
   "source": [
    "plt.figure(figsize=(15,10))\n",
    "\n",
    "# 1. Logistic Regression\n",
    "log_ConfMatrix = confusion_matrix(y_test, logreg.predict(X_test))\n",
    "plt.subplot(2, 3, 1)\n",
    "plt.title(\"Logistic Regression\")\n",
    "plt.ylabel('True label')\n",
    "plt.xlabel('Predicted label')\n",
    "sns.heatmap(log_ConfMatrix, annot=True, cmap=\"Blues\", fmt=\"d\"\n",
    "           ,xticklabels = ['Non-default', 'Default'] \n",
    "           ,yticklabels = ['Non-default', 'Default'])\n",
    "\n",
    "recall, acc, F1 = Measures(log_ConfMatrix)\n",
    "print('Recall of logistic regression classifier on test set: {:.2f}'.format(recall))\n",
    "print('Accuracy of logistic regression classifier on test set: {:.2f}'.format(acc))\n",
    "print('F1 Score of logistic regression classifier on test set: {:.2f}'.format(F1))\n"
   ]
  },
  {
   "cell_type": "markdown",
   "metadata": {},
   "source": [
    "### 5. Use KNN, Decision tree, random forest, SVM, and neural network to predict the data and show the confusion matrix. Please explain your results in details."
   ]
  },
  {
   "cell_type": "markdown",
   "metadata": {},
   "source": [
    "KNN"
   ]
  },
  {
   "cell_type": "code",
   "execution_count": 25,
   "metadata": {},
   "outputs": [
    {
     "data": {
      "text/plain": [
       "KNeighborsClassifier(algorithm='auto', leaf_size=30, metric='minkowski',\n",
       "                     metric_params=None, n_jobs=None, n_neighbors=5, p=2,\n",
       "                     weights='uniform')"
      ]
     },
     "execution_count": 25,
     "metadata": {},
     "output_type": "execute_result"
    }
   ],
   "source": [
    "from sklearn.neighbors import KNeighborsClassifier\n",
    "KNN = KNeighborsClassifier()\n",
    "KNN.fit(X_train, y_train)"
   ]
  },
  {
   "cell_type": "code",
   "execution_count": 26,
   "metadata": {},
   "outputs": [
    {
     "name": "stdout",
     "output_type": "stream",
     "text": [
      "Recall of KNN on test set: 0.79\n",
      "Accuracy of KNN on test set: 0.73\n",
      "F1 Score of KNN on test set: 0.80\n"
     ]
    },
    {
     "data": {
      "image/png": "[encoded data removed]",
      "text/plain": [
       "<Figure size 432x288 with 2 Axes>"
      ]
     },
     "metadata": {
      "needs_background": "light"
     },
     "output_type": "display_data"
    }
   ],
   "source": [
    "knn_ConfMatrix = confusion_matrix(y_test, KNN.predict(X_test))\n",
    "plt.subplot(2, 3, 6)\n",
    "plt.title(\"KNN\")\n",
    "plt.ylabel('True label')\n",
    "plt.xlabel('Predicted label')\n",
    "sns.heatmap(knn_ConfMatrix, annot=True, cmap=\"Reds\", fmt=\"d\"\n",
    "           ,xticklabels = ['Non-default', 'Default'] \n",
    "           ,yticklabels = ['Non-default', 'Default'])\n",
    "\n",
    "recall, acc, F1 = Measures(knn_ConfMatrix)\n",
    "print('Recall of KNN on test set: {:.2f}'.format(recall))\n",
    "print('Accuracy of KNN on test set: {:.2f}'.format(acc))\n",
    "print('F1 Score of KNN on test set: {:.2f}'.format(F1))\n"
   ]
  },
  {
   "cell_type": "markdown",
   "metadata": {},
   "source": [
    "Decision tree"
   ]
  },
  {
   "cell_type": "code",
   "execution_count": 27,
   "metadata": {},
   "outputs": [
    {
     "data": {
      "text/plain": [
       "DecisionTreeClassifier(class_weight=None, criterion='gini', max_depth=None,\n",
       "                       max_features=None, max_leaf_nodes=None,\n",
       "                       min_impurity_decrease=0.0, min_impurity_split=None,\n",
       "                       min_samples_leaf=1, min_samples_split=2,\n",
       "                       min_weight_fraction_leaf=0.0, presort=False,\n",
       "                       random_state=None, splitter='best')"
      ]
     },
     "execution_count": 27,
     "metadata": {},
     "output_type": "execute_result"
    }
   ],
   "source": [
    "from sklearn.tree import DecisionTreeClassifier\n",
    "DecisionTree = DecisionTreeClassifier()\n",
    "DecisionTree.fit(X_train, y_train)"
   ]
  },
  {
   "cell_type": "code",
   "execution_count": 28,
   "metadata": {},
   "outputs": [
    {
     "name": "stdout",
     "output_type": "stream",
     "text": [
      "Recall of decision tree classifier on test set: 0.76\n",
      "Accuracy of decision tree classifier on test set: 0.63\n",
      "F1 Score of decision tree classifier on test set: 0.71\n"
     ]
    },
    {
     "data": {
      "image/png": "[encoded data removed]",
      "text/plain": [
       "<Figure size 432x288 with 2 Axes>"
      ]
     },
     "metadata": {
      "needs_background": "light"
     },
     "output_type": "display_data"
    }
   ],
   "source": [
    "dt_ConfMatrix = confusion_matrix(y_test, DecisionTree.predict(X_test))\n",
    "plt.subplot(2, 3, 5)\n",
    "plt.title(\"Decision Tree\")\n",
    "plt.ylabel('True label')\n",
    "plt.xlabel('Predicted label')\n",
    "sns.heatmap(dt_ConfMatrix, annot=True, cmap=\"Blues\", fmt=\"d\"\n",
    "           ,xticklabels = ['Non-default', 'Default'] \n",
    "           ,yticklabels = ['Non-default', 'Default'])\n",
    "\n",
    "recall, acc, F1 = Measures(dt_ConfMatrix)\n",
    "print('Recall of decision tree classifier on test set: {:.2f}'.format(recall))\n",
    "print('Accuracy of decision tree classifier on test set: {:.2f}'.format(acc))\n",
    "print('F1 Score of decision tree classifier on test set: {:.2f}'.format(F1))\n"
   ]
  },
  {
   "cell_type": "markdown",
   "metadata": {},
   "source": [
    "Random forest"
   ]
  },
  {
   "cell_type": "code",
   "execution_count": 29,
   "metadata": {},
   "outputs": [
    {
     "name": "stderr",
     "output_type": "stream",
     "text": [
      "C:\\ProgramData\\Anaconda3\\lib\\site-packages\\sklearn\\ensemble\\forest.py:245: FutureWarning: The default value of n_estimators will change from 10 in version 0.20 to 100 in 0.22.\n",
      "  \"10 in version 0.20 to 100 in 0.22.\", FutureWarning)\n"
     ]
    },
    {
     "data": {
      "text/plain": [
       "RandomForestClassifier(bootstrap=True, class_weight=None, criterion='gini',\n",
       "                       max_depth=None, max_features='auto', max_leaf_nodes=None,\n",
       "                       min_impurity_decrease=0.0, min_impurity_split=None,\n",
       "                       min_samples_leaf=1, min_samples_split=2,\n",
       "                       min_weight_fraction_leaf=0.0, n_estimators=10,\n",
       "                       n_jobs=None, oob_score=False, random_state=None,\n",
       "                       verbose=0, warm_start=False)"
      ]
     },
     "execution_count": 29,
     "metadata": {},
     "output_type": "execute_result"
    }
   ],
   "source": [
    "from sklearn.ensemble import RandomForestClassifier\n",
    "RandomForest = RandomForestClassifier()\n",
    "RandomForest.fit(X_train, y_train)"
   ]
  },
  {
   "cell_type": "code",
   "execution_count": 30,
   "metadata": {},
   "outputs": [
    {
     "name": "stdout",
     "output_type": "stream",
     "text": [
      "Recall of random forest classifier on test set: 0.74\n",
      "Accuracy of random forest classifier on test set: 0.65\n",
      "F1 Score of random forest classifier on test set: 0.74\n"
     ]
    },
    {
     "data": {
      "image/png": "[encoded data removed]",
      "text/plain": [
       "<Figure size 432x288 with 2 Axes>"
      ]
     },
     "metadata": {
      "needs_background": "light"
     },
     "output_type": "display_data"
    }
   ],
   "source": [
    "rf_ConfMatrix = confusion_matrix(y_test, RandomForest.predict(X_test))\n",
    "plt.subplot(2, 3, 4)\n",
    "plt.title(\"Random Forest\")\n",
    "plt.ylabel('True label')\n",
    "plt.xlabel('Predicted label')\n",
    "sns.heatmap(rf_ConfMatrix, annot=True, cmap=\"Greens\", fmt=\"d\"\n",
    "           ,xticklabels = ['Non-default', 'Default'] \n",
    "           ,yticklabels = ['Non-default', 'Default'])\n",
    "\n",
    "recall, acc, F1 = Measures(rf_ConfMatrix)\n",
    "print('Recall of random forest classifier on test set: {:.2f}'.format(recall))\n",
    "print('Accuracy of random forest classifier on test set: {:.2f}'.format(acc))\n",
    "print('F1 Score of random forest classifier on test set: {:.2f}'.format(F1))\n"
   ]
  },
  {
   "cell_type": "markdown",
   "metadata": {},
   "source": [
    "SVM"
   ]
  },
  {
   "cell_type": "code",
   "execution_count": 31,
   "metadata": {},
   "outputs": [
    {
     "data": {
      "text/plain": [
       "SVC(C=1.0, cache_size=200, class_weight=None, coef0=0.0,\n",
       "    decision_function_shape='ovr', degree=3, gamma='auto_deprecated',\n",
       "    kernel='linear', max_iter=-1, probability=True, random_state=None,\n",
       "    shrinking=True, tol=0.001, verbose=False)"
      ]
     },
     "execution_count": 31,
     "metadata": {},
     "output_type": "execute_result"
    }
   ],
   "source": [
    "from sklearn.svm import SVC\n",
    "\n",
    "svm = SVC(kernel = 'linear', probability = True)\n",
    "svm.fit(X_train, y_train)"
   ]
  },
  {
   "cell_type": "code",
   "execution_count": 32,
   "metadata": {},
   "outputs": [
    {
     "name": "stdout",
     "output_type": "stream",
     "text": [
      "Recall of svm classifier on test set: 0.75\n",
      "Accuracy of svm classifier on test set: 0.67\n",
      "F1 Score of svm classifier on test set: 0.76\n"
     ]
    },
    {
     "data": {
      "image/png": "[encoded data removed]",
      "text/plain": [
       "<Figure size 432x288 with 2 Axes>"
      ]
     },
     "metadata": {
      "needs_background": "light"
     },
     "output_type": "display_data"
    }
   ],
   "source": [
    "svm_ConfMatrix = confusion_matrix(y_test, svm.predict(X_test))\n",
    "plt.subplot(2, 3, 2)\n",
    "plt.title(\"SVM\")\n",
    "plt.ylabel('True label')\n",
    "plt.xlabel('Predicted label')\n",
    "sns.heatmap(svm_ConfMatrix, annot=True, cmap=\"Reds\", fmt=\"d\"\n",
    "           ,xticklabels = ['Non-default', 'Default'] \n",
    "           ,yticklabels = ['Non-default', 'Default'])\n",
    "\n",
    "recall, acc, F1 = Measures(svm_ConfMatrix)\n",
    "print('Recall of svm classifier on test set: {:.2f}'.format(recall))\n",
    "print('Accuracy of svm classifier on test set: {:.2f}'.format(acc))\n",
    "print('F1 Score of svm classifier on test set: {:.2f}'.format(F1))\n"
   ]
  },
  {
   "cell_type": "markdown",
   "metadata": {},
   "source": [
    "NN"
   ]
  },
  {
   "cell_type": "code",
   "execution_count": 34,
   "metadata": {},
   "outputs": [
    {
     "name": "stderr",
     "output_type": "stream",
     "text": [
      "Using TensorFlow backend.\n",
      "WARNING: Logging before flag parsing goes to stderr.\n",
      "W1111 17:20:37.454408 16524 deprecation.py:323] From C:\\ProgramData\\Anaconda3\\lib\\site-packages\\tensorflow\\python\\ops\\nn_impl.py:180: add_dispatch_support.<locals>.wrapper (from tensorflow.python.ops.array_ops) is deprecated and will be removed in a future version.\n",
      "Instructions for updating:\n",
      "Use tf.where in 2.0, which has the same broadcast rule as np.where\n",
      "W1111 17:20:38.131021 16524 deprecation_wrapper.py:119] From C:\\ProgramData\\Anaconda3\\lib\\site-packages\\keras\\backend\\tensorflow_backend.py:422: The name tf.global_variables is deprecated. Please use tf.compat.v1.global_variables instead.\n",
      "\n"
     ]
    },
    {
     "name": "stdout",
     "output_type": "stream",
     "text": [
      "Epoch 1/20\n",
      "709/709 [==============================] - 0s 429us/step - loss: 0.6707 - accuracy: 0.6262 - f1_m: 0.2885 - recall_m: 0.2011\n",
      "Epoch 2/20\n",
      "709/709 [==============================] - 0s 27us/step - loss: 0.6545 - accuracy: 0.6474 - f1_m: 0.3887 - recall_m: 0.2816\n",
      "Epoch 3/20\n",
      "709/709 [==============================] - 0s 36us/step - loss: 0.6432 - accuracy: 0.6714 - f1_m: 0.4716 - recall_m: 0.3687\n",
      "Epoch 4/20\n",
      "709/709 [==============================] - 0s 26us/step - loss: 0.6338 - accuracy: 0.6841 - f1_m: 0.4982 - recall_m: 0.3913\n",
      "Epoch 5/20\n",
      "709/709 [==============================] - 0s 31us/step - loss: 0.6254 - accuracy: 0.6883 - f1_m: 0.5078 - recall_m: 0.3989\n",
      "Epoch 6/20\n",
      "709/709 [==============================] - 0s 33us/step - loss: 0.6181 - accuracy: 0.6911 - f1_m: 0.5301 - recall_m: 0.4344\n",
      "Epoch 7/20\n",
      "709/709 [==============================] - 0s 27us/step - loss: 0.6111 - accuracy: 0.6911 - f1_m: 0.5113 - recall_m: 0.4129\n",
      "Epoch 8/20\n",
      "709/709 [==============================] - 0s 32us/step - loss: 0.6046 - accuracy: 0.6939 - f1_m: 0.5366 - recall_m: 0.4395\n",
      "Epoch 9/20\n",
      "709/709 [==============================] - 0s 35us/step - loss: 0.5989 - accuracy: 0.7024 - f1_m: 0.5502 - recall_m: 0.4556\n",
      "Epoch 10/20\n",
      "709/709 [==============================] - 0s 32us/step - loss: 0.5936 - accuracy: 0.7080 - f1_m: 0.5711 - recall_m: 0.4793\n",
      "Epoch 11/20\n",
      "709/709 [==============================] - 0s 37us/step - loss: 0.5890 - accuracy: 0.7080 - f1_m: 0.5611 - recall_m: 0.4709\n",
      "Epoch 12/20\n",
      "709/709 [==============================] - 0s 36us/step - loss: 0.5846 - accuracy: 0.7123 - f1_m: 0.5842 - recall_m: 0.4899\n",
      "Epoch 13/20\n",
      "709/709 [==============================] - 0s 34us/step - loss: 0.5808 - accuracy: 0.7151 - f1_m: 0.5799 - recall_m: 0.4941\n",
      "Epoch 14/20\n",
      "709/709 [==============================] - 0s 37us/step - loss: 0.5777 - accuracy: 0.7165 - f1_m: 0.5859 - recall_m: 0.5019\n",
      "Epoch 15/20\n",
      "709/709 [==============================] - 0s 35us/step - loss: 0.5749 - accuracy: 0.7151 - f1_m: 0.5784 - recall_m: 0.4943\n",
      "Epoch 16/20\n",
      "709/709 [==============================] - 0s 31us/step - loss: 0.5721 - accuracy: 0.7151 - f1_m: 0.5870 - recall_m: 0.5049\n",
      "Epoch 17/20\n",
      "709/709 [==============================] - 0s 35us/step - loss: 0.5695 - accuracy: 0.7165 - f1_m: 0.5759 - recall_m: 0.4929\n",
      "Epoch 18/20\n",
      "709/709 [==============================] - 0s 33us/step - loss: 0.5672 - accuracy: 0.7151 - f1_m: 0.5648 - recall_m: 0.4833\n",
      "Epoch 19/20\n",
      "709/709 [==============================] - 0s 35us/step - loss: 0.5655 - accuracy: 0.7221 - f1_m: 0.5863 - recall_m: 0.5003\n",
      "Epoch 20/20\n",
      "709/709 [==============================] - 0s 24us/step - loss: 0.5637 - accuracy: 0.7207 - f1_m: 0.5786 - recall_m: 0.4948\n"
     ]
    }
   ],
   "source": [
    "from keras import backend as K\n",
    "\n",
    "def recall_m(y_true, y_pred):\n",
    "        true_positives = K.sum(K.round(K.clip(y_true * y_pred, 0, 1)))\n",
    "        possible_positives = K.sum(K.round(K.clip(y_true, 0, 1)))\n",
    "        recall = true_positives / (possible_positives + K.epsilon())\n",
    "        return recall\n",
    "\n",
    "def precision_m(y_true, y_pred):\n",
    "        true_positives = K.sum(K.round(K.clip(y_true * y_pred, 0, 1)))\n",
    "        predicted_positives = K.sum(K.round(K.clip(y_pred, 0, 1)))\n",
    "        precision = true_positives / (predicted_positives + K.epsilon())\n",
    "        return precision\n",
    "\n",
    "def f1_m(y_true, y_pred):\n",
    "    precision = precision_m(y_true, y_pred)\n",
    "    recall = recall_m(y_true, y_pred)\n",
    "    return 2*((precision*recall)/(precision+recall+K.epsilon()))\n",
    "from keras import models\n",
    "from keras import layers\n",
    "#import keras_metrics\n",
    "\n",
    "# build NN model\n",
    "model = models.Sequential()\n",
    "model.add(layers.Dense(units = 16, activation = 'relu', input_shape=(X_train.shape[1],)))\n",
    "model.add(layers.Dense(units = 16, activation = 'relu'))\n",
    "model.add(layers.Dense(units = 1, activation = 'sigmoid'))\n",
    "model.compile(optimizer = 'rmsprop', loss = 'binary_crossentropy', metrics = ['accuracy', f1_m, recall_m])\n",
    " \n",
    "# start training\n",
    "history = model.fit(X_train, y_train, epochs = 20, batch_size = 128)"
   ]
  },
  {
   "cell_type": "code",
   "execution_count": 35,
   "metadata": {},
   "outputs": [
    {
     "name": "stdout",
     "output_type": "stream",
     "text": [
      "Recall of NN classifier on test set: 0.45\n",
      "Accuracy of NN classifier on test set: 0.68\n",
      "F1 Score of NN classifier on test set: 0.48\n"
     ]
    },
    {
     "data": {
      "image/png": "[encoded data removed]",
      "text/plain": [
       "<Figure size 432x288 with 2 Axes>"
      ]
     },
     "metadata": {
      "needs_background": "light"
     },
     "output_type": "display_data"
    }
   ],
   "source": [
    "nn_ConfMatrix = confusion_matrix(y_test, model.predict_classes(X_test))\n",
    "plt.subplot(2, 3, 3)\n",
    "plt.title(\"NN\")\n",
    "plt.ylabel('True label')\n",
    "plt.xlabel('Predicted label')\n",
    "sns.heatmap(nn_ConfMatrix, annot=True, cmap=\"Greens\", fmt=\"d\"\n",
    "           ,xticklabels = ['Non-default', 'Default'] \n",
    "           ,yticklabels = ['Non-default', 'Default'])\n",
    "\n",
    "loss, accuracy, f1_score, recall = model.evaluate(X_test, y_test, verbose=0)\n",
    "print('Recall of NN classifier on test set: {:.2f}'.format(recall))\n",
    "print('Accuracy of NN classifier on test set: {:.2f}'.format(accuracy))\n",
    "print('F1 Score of NN classifier on test set: {:.2f}'.format(f1_score))"
   ]
  },
  {
   "cell_type": "markdown",
   "metadata": {},
   "source": [
    "### 6. Among all these questions, what is your best result? Explain why you regard it as the best result."
   ]
  },
  {
   "cell_type": "markdown",
   "metadata": {},
   "source": [
    "KNN has the best accuracy 0.73 "
   ]
  }
 ],
 "metadata": {
  "kernelspec": {
   "display_name": "Python 3",
   "language": "python",
   "name": "python3"
  },
  "language_info": {
   "codemirror_mode": {
    "name": "ipython",
    "version": 3
   },
   "file_extension": ".py",
   "mimetype": "text/x-python",
   "name": "python",
   "nbconvert_exporter": "python",
   "pygments_lexer": "ipython3",
   "version": "3.7.3"
  }
 },
 "nbformat": 4,
 "nbformat_minor": 2
}
